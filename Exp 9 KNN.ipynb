{
 "cells": [
  {
   "cell_type": "code",
   "execution_count": 13,
   "id": "93c3031b-c2d5-4731-98d6-1689e705089d",
   "metadata": {},
   "outputs": [
    {
     "name": "stdout",
     "output_type": "stream",
     "text": [
      "   Age  income  no. of cards Loan\n",
      "0   25   50000             3    Y\n",
      "1   30   60000             2    N\n",
      "2   22   45000             1    Y\n",
      "3   35   75000             5    N\n",
      "4   28   52000             3    Y\n",
      "5   40   90000             4    N\n",
      "6   23   48000             2    Y\n",
      "7   45   85000             6    N\n",
      "8   31   62000             3    Y\n",
      "9   38   78000             5    N\n"
     ]
    },
    {
     "name": "stdin",
     "output_type": "stream",
     "text": [
      "Enter Age :  23\n",
      "Enter Income :  59000\n",
      "Enter number of cards :  3\n"
     ]
    }
   ],
   "source": [
    "\n",
    "import pandas as pd\n",
    "import numpy as np\n",
    "import math\n",
    "\n",
    "'''\n",
    "predicting class 'Y'\n",
    "or 'N' if loan is sanctioned or not \n",
    "dataset Data.csv '''\n",
    "import pandas as pd\n",
    "import numpy as np\n",
    "import math\n",
    "\n",
    "df=pd.read_csv('Data_set.csv')\n",
    "print(df)\n",
    "age=df[\"Age\"].tolist()\n",
    "age=[int(i) for i in age]\n",
    "inc=df[\"income\"].tolist()\n",
    "inc=[int(i) for i in inc]\n",
    "cards=df[\"no. of cards\"].tolist()\n",
    "cards=[int(i) for i in cards]\n",
    "loan=df[\"Loan\"].tolist()\n",
    "nage=int(input(\"Enter Age : \"))\n",
    "ninc=int(input(\"Enter Income : \"))\n",
    "nc=int(input(\"Enter number of cards : \"))\n"
   ]
  },
  {
   "cell_type": "code",
   "execution_count": 17,
   "id": "66c7e9df-91ea-46ef-8b3f-a67113bbee83",
   "metadata": {},
   "outputs": [
    {
     "name": "stdout",
     "output_type": "stream",
     "text": [
      "[9000.00022222222, 1000.0249996875078, 14000.000178571427, 16000.004624999332, 7000.001785714058, 31000.004677419, 11000.000045454546, 26000.0094807675, 3000.0106666477036, 19000.006026314833]\n",
      "[4, 49, 1, 144, 25, 289, 0, 484, 64, 225]\n",
      "[81000000, 1000000, 196000000, 256000000, 49000000, 961000000, 121000000, 676000000, 9000000, 361000000]\n",
      "[0, 1, 4, 4, 0, 1, 1, 9, 0, 4]\n"
     ]
    }
   ],
   "source": [
    "\n",
    "ec=[]\n",
    "sa=[] \n",
    "si=[]\n",
    "sc=[]\n",
    "for i in range(len(age)):\n",
    "    n=age[i]-nage\n",
    "    n=n*n\n",
    "    sa.append(n)\n",
    "    n=inc[i]-ninc\n",
    "    n=n*n\n",
    "    si.append(n)\n",
    "    n=cards[i]-nc\n",
    "    n=n*n\n",
    "    sc.append(n)\n",
    "    n=math.sqrt(sa[i]+si[i]+sc[i])\n",
    "    ec.append(n)\n",
    "print(ec)\n",
    "print(sa)\n",
    "print(si)\n",
    "print(sc)"
   ]
  },
  {
   "cell_type": "code",
   "execution_count": 19,
   "id": "c7800d2a-cb95-4a80-8c15-98fa0713cbfd",
   "metadata": {},
   "outputs": [
    {
     "name": "stdout",
     "output_type": "stream",
     "text": [
      "   Age  income  no. of cards Loan  Eucledian dis\n",
      "0   25   50000             3    Y    9000.000222\n",
      "1   30   60000             2    N    1000.025000\n",
      "2   22   45000             1    Y   14000.000179\n",
      "3   35   75000             5    N   16000.004625\n",
      "4   28   52000             3    Y    7000.001786\n",
      "5   40   90000             4    N   31000.004677\n",
      "6   23   48000             2    Y   11000.000045\n",
      "7   45   85000             6    N   26000.009481\n",
      "8   31   62000             3    Y    3000.010667\n",
      "9   38   78000             5    N   19000.006026\n",
      "   Age  income  no. of cards Loan  Eucledian dis\n",
      "1   30   60000             2    N    1000.025000\n",
      "8   31   62000             3    Y    3000.010667\n",
      "4   28   52000             3    Y    7000.001786\n",
      "0   25   50000             3    Y    9000.000222\n",
      "6   23   48000             2    Y   11000.000045\n",
      "2   22   45000             1    Y   14000.000179\n",
      "3   35   75000             5    N   16000.004625\n",
      "9   38   78000             5    N   19000.006026\n",
      "7   45   85000             6    N   26000.009481\n",
      "5   40   90000             4    N   31000.004677\n"
     ]
    },
    {
     "name": "stdin",
     "output_type": "stream",
     "text": [
      "Enter odd value of k : 3\n"
     ]
    },
    {
     "name": "stdout",
     "output_type": "stream",
     "text": [
      "3 nearest values :  ['N', 'Y', 'Y']\n",
      "Loan : Y\n"
     ]
    }
   ],
   "source": [
    "df['Eucledian dis']=ec\n",
    "print(df)\n",
    "df=df.sort_values('Eucledian dis')\n",
    "print(df)\n",
    "k=0\n",
    "while(k%2==0):\n",
    " k=int(input(\"Enter odd value of k :\"))\n",
    " if(k%2==0):\n",
    "     print(\"Even k Enter again \")\n",
    "loan=df[\"Loan\"].tolist()\n",
    "l=[]\n",
    "for i in range(k):\n",
    "    l.append(loan[i])\n",
    "print(\"3 nearest values : \",l)\n",
    "c1=0\n",
    "c2=0;\n",
    "for i in range(k):\n",
    "    if(l[i]=='N'):\n",
    "        c1=c1+1\n",
    "    else:\n",
    "        c2=c2+1\n",
    "if c1>c2:\n",
    "    nloan='N'\n",
    "    print(\"Loan : \"+nloan)\n",
    "else:\n",
    "    nloan='Y'\n",
    "    print(\"Loan : \"+nloan) "
   ]
  },
  {
   "cell_type": "code",
   "execution_count": null,
   "id": "7dc69430-2510-4dfa-89ce-2e8c395ba8a6",
   "metadata": {},
   "outputs": [],
   "source": []
  },
  {
   "cell_type": "code",
   "execution_count": null,
   "id": "996f586d-3715-4cde-84e4-8e28572ed6be",
   "metadata": {},
   "outputs": [],
   "source": []
  }
 ],
 "metadata": {
  "kernelspec": {
   "display_name": "Python 3 (ipykernel)",
   "language": "python",
   "name": "python3"
  },
  "language_info": {
   "codemirror_mode": {
    "name": "ipython",
    "version": 3
   },
   "file_extension": ".py",
   "mimetype": "text/x-python",
   "name": "python",
   "nbconvert_exporter": "python",
   "pygments_lexer": "ipython3",
   "version": "3.12.4"
  }
 },
 "nbformat": 4,
 "nbformat_minor": 5
}
