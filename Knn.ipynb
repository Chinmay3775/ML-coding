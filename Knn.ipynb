{
 "cells": [
  {
   "cell_type": "code",
   "execution_count": 67,
   "id": "e3ad1bed-fc39-4656-b983-eb39678be94b",
   "metadata": {},
   "outputs": [
    {
     "name": "stdout",
     "output_type": "stream",
     "text": [
      "   Height  Weight\n",
      "0     150      50\n",
      "1     160      60\n",
      "2     165      65\n",
      "3     170      70\n",
      "4     175      75\n",
      "5     180      80\n",
      "6     155      55\n",
      "7     172      72\n",
      "8     168      68\n",
      "9     162      63\n",
      "0    A\n",
      "1    A\n",
      "2    A\n",
      "3    B\n",
      "4    B\n",
      "5    B\n",
      "6    A\n",
      "7    B\n",
      "8    A\n",
      "9    B\n",
      "Name: Label, dtype: object\n",
      "[0 0 0 1 1 1 0 1 0 1]\n",
      "X_train [[ 1.45964211  1.45392791]\n",
      " [-1.69634082 -1.71827844]\n",
      " [ 0.61804666  0.60800622]\n",
      " [-0.11834936 -0.13217526]\n",
      " [-0.43394765 -0.34365569]\n",
      " [ 0.93364495  0.92522685]\n",
      " [ 0.4076478   0.39652579]\n",
      " [-1.17034367 -1.18957738]]\n",
      "X_test [[ 0.19724893  0.18504537]\n",
      " [-0.64434651 -0.66087632]]\n"
     ]
    },
    {
     "ename": "NameError",
     "evalue": "name 'y_test' is not defined",
     "output_type": "error",
     "traceback": [
      "\u001b[1;31m---------------------------------------------------------------------------\u001b[0m",
      "\u001b[1;31mNameError\u001b[0m                                 Traceback (most recent call last)",
      "Cell \u001b[1;32mIn[67], line 28\u001b[0m\n\u001b[0;32m     24\u001b[0m knn\u001b[38;5;241m.\u001b[39mfit(X_train,Y_train)\n\u001b[0;32m     25\u001b[0m Y_pred\u001b[38;5;241m=\u001b[39mknn\u001b[38;5;241m.\u001b[39mpredict(X_test)\n\u001b[1;32m---> 28\u001b[0m \u001b[38;5;28mprint\u001b[39m(confusion_matrix(y_test, y_pred))\n\u001b[0;32m     29\u001b[0m \u001b[38;5;28mprint\u001b[39m(classification_report(y_test, y_pred))\n",
      "\u001b[1;31mNameError\u001b[0m: name 'y_test' is not defined"
     ]
    }
   ],
   "source": [
    "import pandas as pd\n",
    "from sklearn.model_selection import train_test_split\n",
    "from sklearn.preprocessing import StandardScaler, LabelEncoder\n",
    "from sklearn.neighbors import KNeighborsClassifier\n",
    "from sklearn.metrics import classification_report, confusion_matrix\n",
    "\n",
    "df=pd.read_csv('knn.csv')\n",
    "\n",
    "X=df[['Height','Weight']]\n",
    "Y=df['Label']\n",
    "print(X)\n",
    "print(Y)\n",
    "le=LabelEncoder()\n",
    "y_encoded=le.fit_transform(Y)\n",
    "print(y_encoded)\n",
    "X_train,X_test,Y_train,Y_test=train_test_split(X,y_encoded,test_size=0.2,random_state=42)\n",
    "scaler=StandardScaler()\n",
    "X_train=scaler.fit_transform(X_train)\n",
    "X_test = scaler.transform(X_test)\n",
    "print(\"X_train\",X_train)\n",
    "print(\"X_test\",X_test)\n",
    "k=3\n",
    "knn=KNeighborsClassifier(n_neighbors=k)\n",
    "knn.fit(X_train,Y_train)\n",
    "Y_pred=knn.predict(X_test)\n",
    "\n",
    "\n",
    "print(confusion_matrix(y_test, y_pred))\n",
    "print(classification_report(y_test, y_pred))\n"
   ]
  },
  {
   "cell_type": "code",
   "execution_count": null,
   "id": "7c4c1732-d2b9-4b45-8b40-de6b250c7cf5",
   "metadata": {},
   "outputs": [],
   "source": []
  }
 ],
 "metadata": {
  "kernelspec": {
   "display_name": "Python 3 (ipykernel)",
   "language": "python",
   "name": "python3"
  },
  "language_info": {
   "codemirror_mode": {
    "name": "ipython",
    "version": 3
   },
   "file_extension": ".py",
   "mimetype": "text/x-python",
   "name": "python",
   "nbconvert_exporter": "python",
   "pygments_lexer": "ipython3",
   "version": "3.12.4"
  }
 },
 "nbformat": 4,
 "nbformat_minor": 5
}
