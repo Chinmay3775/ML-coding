{
 "cells": [
  {
   "cell_type": "code",
   "execution_count": 1,
   "id": "d0f3ab14-92ef-457f-9833-a02c834c55a7",
   "metadata": {},
   "outputs": [
    {
     "name": "stdout",
     "output_type": "stream",
     "text": [
      "[1 2 3 4]\n"
     ]
    }
   ],
   "source": [
    "import numpy as np\n",
    "arr=np.array([1,2,3,4])\n",
    "print(arr)"
   ]
  },
  {
   "cell_type": "code",
   "execution_count": 3,
   "id": "09a9a481-324c-4906-b59a-2ce510c43936",
   "metadata": {},
   "outputs": [
    {
     "name": "stdout",
     "output_type": "stream",
     "text": [
      "np.array([1,2,3,4],dtype=float) :  [1. 2. 3. 4.]\n"
     ]
    }
   ],
   "source": [
    "#data_types\n",
    "x=np.array([1,2,3,4],dtype=float)\n",
    "print(\"np.array([1,2,3,4],dtype=float) : \",x)"
   ]
  },
  {
   "cell_type": "code",
   "execution_count": 5,
   "id": "cf59f890-7278-4ca7-a889-926a1348a46e",
   "metadata": {},
   "outputs": [
    {
     "name": "stdout",
     "output_type": "stream",
     "text": [
      "s.shape : (4,)\n"
     ]
    }
   ],
   "source": [
    "#shape of the array\n",
    "s=np.array([3,2,14,5])\n",
    "print(\"s.shape :\",s.shape)"
   ]
  },
  {
   "cell_type": "code",
   "execution_count": 7,
   "id": "0774b213-7850-4068-8d83-56629b734f59",
   "metadata": {},
   "outputs": [
    {
     "name": "stdout",
     "output_type": "stream",
     "text": [
      "arr1 : [1 2 5 3 7]\n",
      "arr1.shape : (5,)\n",
      "arr1.size : 5\n",
      "arr2 : [2 1 4 6 8]\n",
      "arr1+arr2 :  [ 3  3  9  9 15]\n"
     ]
    }
   ],
   "source": [
    "#sum of two arrays\n",
    "arr1=np.array([1,2,5,3,7])\n",
    "print(\"arr1 :\",arr1)\n",
    "print(\"arr1.shape :\",arr1.shape)\n",
    "print(\"arr1.size :\",arr1.size)\n",
    "arr2=np.array([2,1,4,6,8])\n",
    "print(\"arr2 :\",arr2)\n",
    "\n",
    "print(\"arr1+arr2 : \",arr1+arr2)"
   ]
  },
  {
   "cell_type": "code",
   "execution_count": 9,
   "id": "7306082f-d36e-44f9-9d6f-e8bfc6a332ce",
   "metadata": {},
   "outputs": [
    {
     "name": "stdout",
     "output_type": "stream",
     "text": [
      "[1 2 3 4 5]\n",
      "Slicing\n",
      "[2 3 4]\n",
      "2D array\n",
      "[[1 2 3]\n",
      " [4 5 6]\n",
      " [7 8 9]]\n",
      "2nd Row 3rd column\n",
      "6\n"
     ]
    }
   ],
   "source": [
    "import numpy as np\n",
    "arr = np.array([1, 2, 3, 4, 5])\n",
    "print(arr)\n",
    "print(\"Slicing\")\n",
    "print(arr[1:4])\n",
    "arr = np.array([[1, 2, 3], [4, 5, 6], [7, 8, 9]])\n",
    "print(\"2D array\")\n",
    "print(arr)\n",
    "print(\"2nd Row 3rd column\")\n",
    "print(arr[1, 2])"
   ]
  },
  {
   "cell_type": "code",
   "execution_count": null,
   "id": "a5ceaeeb-8818-4f44-b607-7bbca2a414af",
   "metadata": {},
   "outputs": [],
   "source": []
  }
 ],
 "metadata": {
  "kernelspec": {
   "display_name": "Python 3 (ipykernel)",
   "language": "python",
   "name": "python3"
  },
  "language_info": {
   "codemirror_mode": {
    "name": "ipython",
    "version": 3
   },
   "file_extension": ".py",
   "mimetype": "text/x-python",
   "name": "python",
   "nbconvert_exporter": "python",
   "pygments_lexer": "ipython3",
   "version": "3.12.4"
  }
 },
 "nbformat": 4,
 "nbformat_minor": 5
}
