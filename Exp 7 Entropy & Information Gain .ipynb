{
 "cells": [
  {
   "cell_type": "markdown",
   "id": "9ede090b-e01b-47e4-b9ff-827a6c19839b",
   "metadata": {},
   "source": [
    "Entropy\n"
   ]
  },
  {
   "cell_type": "code",
   "execution_count": 3,
   "id": "5bcaaf9c-2c36-4194-902a-b8f9815cc37c",
   "metadata": {},
   "outputs": [
    {
     "name": "stdout",
     "output_type": "stream",
     "text": [
      "Entropy of the target column: 1.5850\n"
     ]
    }
   ],
   "source": [
    "import pandas as pd\n",
    "import numpy as np\n",
    "data = pd.read_csv('iris.csv')\n",
    "\n",
    "target_column = data.iloc[:, -1] \n",
    "\n",
    "value_counts = target_column.value_counts(normalize=True)\n",
    "\n",
    "entropy = -np.sum(value_counts * np.log2(value_counts))\n",
    "\n",
    "print(f\"Entropy of the target column: {entropy:.4f}\")"
   ]
  },
  {
   "cell_type": "markdown",
   "id": "39c7f533-ddc2-4c19-a9bf-2fce745ed5c1",
   "metadata": {},
   "source": [
    "Information Gain"
   ]
  },
  {
   "cell_type": "code",
   "execution_count": 8,
   "id": "2f8e8620-e217-48bd-8958-a99c8bb1d0ee",
   "metadata": {},
   "outputs": [
    {
     "name": "stdout",
     "output_type": "stream",
     "text": [
      "Entropy of the target column: 1.5850\n"
     ]
    }
   ],
   "source": [
    "import pandas as pd\n",
    "import numpy as np\n",
    "data = pd.read_csv('iris.csv')\n",
    "\n",
    "target_column = data.iloc[:, -1] \n",
    "\n",
    "value_counts = target_column.value_counts(normalize=True)\n",
    "\n",
    "entropy = -np.sum(value_counts * np.log2(value_counts))\n",
    "\n",
    "print(f\"Entropy of the target column: {entropy:.4f}\")"
   ]
  },
  {
   "cell_type": "code",
   "execution_count": 6,
   "id": "662dbed9-390d-46cd-b601-0ba1f76ea42e",
   "metadata": {},
   "outputs": [
    {
     "name": "stdout",
     "output_type": "stream",
     "text": [
      "species\n",
      "setosa        0.333333\n",
      "versicolor    0.333333\n",
      "virginica     0.333333\n",
      "Name: proportion, dtype: float64\n",
      "1.584962500721156\n",
      "[5.1 4.9 4.7 4.6 5.  5.4 4.4 4.8 4.3 5.8 5.7 5.2 5.5 4.5 5.3 7.  6.4 6.9\n",
      " 6.5 6.3 6.6 5.9 6.  6.1 5.6 6.7 6.2 6.8 7.1 7.6 7.3 7.2 7.7 7.4 7.9]\n"
     ]
    }
   ],
   "source": [
    "target_col = 'species' \n",
    "feature_col = 'sepal_length' \n",
    "\n",
    "value_counts_total = data[target_col].value_counts(normalize=True)\n",
    "print(value_counts_total)\n",
    "total_entropy = -np.sum(value_counts_total * np.log2(value_counts_total))\n",
    "print(total_entropy)\n",
    "values = data[feature_col].unique()\n",
    "print(values)\n"
   ]
  },
  {
   "cell_type": "code",
   "execution_count": 10,
   "id": "a0e907c7-fe9e-4381-a12f-add739b9c5b8",
   "metadata": {},
   "outputs": [
    {
     "name": "stdout",
     "output_type": "stream",
     "text": [
      "Information Gain for splitting on 'sepal_length': 0.8769\n"
     ]
    }
   ],
   "source": [
    "weighted_entropy = 0\n",
    "for value in values:\n",
    "    subset = data[data[feature_col] == value] \n",
    "    value_counts_subset = subset[target_col].value_counts(normalize=True)\n",
    "    subset_entropy = -np.sum(value_counts_subset * np.log2(value_counts_subset))\n",
    "    \n",
    "    \n",
    "    weighted_entropy += (len(subset) / len(data)) * subset_entropy\n",
    "\n",
    "info_gain = total_entropy - weighted_entropy\n",
    "\n",
    "print(f\"Information Gain for splitting on '{feature_col}': {info_gain:.4f}\")"
   ]
  },
  {
   "cell_type": "code",
   "execution_count": null,
   "id": "0cdada70-53d2-47a6-b3ce-d5c98a2f3e45",
   "metadata": {},
   "outputs": [],
   "source": []
  }
 ],
 "metadata": {
  "kernelspec": {
   "display_name": "Python 3 (ipykernel)",
   "language": "python",
   "name": "python3"
  },
  "language_info": {
   "codemirror_mode": {
    "name": "ipython",
    "version": 3
   },
   "file_extension": ".py",
   "mimetype": "text/x-python",
   "name": "python",
   "nbconvert_exporter": "python",
   "pygments_lexer": "ipython3",
   "version": "3.12.4"
  }
 },
 "nbformat": 4,
 "nbformat_minor": 5
}
