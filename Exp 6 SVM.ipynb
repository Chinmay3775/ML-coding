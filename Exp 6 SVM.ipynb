{
 "cells": [
  {
   "cell_type": "code",
   "execution_count": 5,
   "id": "97e44a97-5c2d-4a71-bec4-b887986555a0",
   "metadata": {},
   "outputs": [
    {
     "name": "stdin",
     "output_type": "stream",
     "text": [
      "Enter the number of data points:  1\n"
     ]
    },
    {
     "name": "stdout",
     "output_type": "stream",
     "text": [
      "\n",
      "Enter the values for X and y (target variable):\n"
     ]
    },
    {
     "name": "stdin",
     "output_type": "stream",
     "text": [
      "Enter X[1]:  2\n",
      "Enter y[1]:  3\n"
     ]
    }
   ],
   "source": [
    "# 1. Import necessary libraries\n",
    "import numpy as np\n",
    "import matplotlib.pyplot as plt\n",
    "from sklearn.svm import SVR\n",
    "from sklearn.preprocessing import StandardScaler\n",
    "\n",
    "# 2. Take inputs from user for the dataset\n",
    "n = int(input(\"Enter the number of data points: \"))\n",
    "\n",
    "X = []\n",
    "y = []\n",
    "\n",
    "print(\"\\nEnter the values for X and y (target variable):\")\n",
    "for i in range(n):\n",
    "    x_value = float(input(f\"Enter X[{i + 1}]: \"))\n",
    "    y_value = float(input(f\"Enter y[{i + 1}]: \"))\n",
    "    X.append([x_value])  # Append as a list to form 2D array\n",
    "    y.append([y_value])  # Append as a list for consistent shape\n",
    "\n",
    "X = np.array(X)\n",
    "y = np.array(y)\n",
    "\n"
   ]
  },
  {
   "cell_type": "code",
   "execution_count": 7,
   "id": "90c03af6-01aa-4150-b0d2-6917d46b3960",
   "metadata": {},
   "outputs": [],
   "source": [
    "# 3. Feature Scaling (important for SVR)\n",
    "scaler_X = StandardScaler()\n",
    "scaler_y = StandardScaler()\n",
    "\n",
    "X_scaled = scaler_X.fit_transform(X)\n",
    "y_scaled = scaler_y.fit_transform(y.reshape(-1, 1)).flatten()  # flatten to 1D\n",
    "print("
   ]
  },
  {
   "cell_type": "code",
   "execution_count": null,
   "id": "4ce398a0-6b3d-4146-a749-c164e3cafa4e",
   "metadata": {},
   "outputs": [],
   "source": [
    "# 4. Apply SVR (Support Vector Regression)\n",
    "epsilon_value = float(input(\"\\nEnter the epsilon value for SVR (margin of tolerance): \"))\n",
    "svr_model = SVR(kernel='rbf', epsilon=epsilon_value)  # Using RBF kernel\n",
    "svr_model.fit(X_scaled, y_scaled)\n"
   ]
  },
  {
   "cell_type": "code",
   "execution_count": null,
   "id": "7c284f9d-3e53-4944-aaf2-680af2e6f348",
   "metadata": {},
   "outputs": [],
   "source": [
    "# 5. Predict using the trained SVR model\n",
    "y_pred_scaled = svr_model.predict(X_scaled)"
   ]
  },
  {
   "cell_type": "code",
   "execution_count": null,
   "id": "c83a382e-9195-40ba-89b1-d95ba1b7961f",
   "metadata": {},
   "outputs": [],
   "source": [
    "# Reshape the predicted values before inverse transforming\n",
    "y_pred_scaled = y_pred_scaled.reshape(-1, 1)  # Reshape to 2D\n",
    "y_pred = scaler_y.inverse_transform(y_pred_scaled).flatten()  # Flatten back to 1D# 6. Plot the Results\n",
    "\n",
    "X_plot = np.linspace(min(X), max(X), 100).reshape(100, 1)\n",
    "X_plot_scaled = scaler_X.transform(X_plot)\n",
    "y_plot_scaled = svr_model.predict(X_plot_scaled)\n",
    "y_plot = scaler_y.inverse_transform(y_plot_scaled.reshape(-1, 1)).flatten()\n",
    "\n",
    "plt.scatter(X, y, color=\"blue\", label=\"Actual Data\", alpha=0.5)\n",
    "plt.plot(X_plot, y_plot, color=\"red\", label=\"SVR Prediction\")\n",
    "plt.xlabel(\"X\")\n",
    "plt.ylabel(\"y\")\n",
    "plt.legend()\n",
    "plt.show()"
   ]
  }
 ],
 "metadata": {
  "kernelspec": {
   "display_name": "Python 3 (ipykernel)",
   "language": "python",
   "name": "python3"
  },
  "language_info": {
   "codemirror_mode": {
    "name": "ipython",
    "version": 3
   },
   "file_extension": ".py",
   "mimetype": "text/x-python",
   "name": "python",
   "nbconvert_exporter": "python",
   "pygments_lexer": "ipython3",
   "version": "3.12.4"
  }
 },
 "nbformat": 4,
 "nbformat_minor": 5
}
