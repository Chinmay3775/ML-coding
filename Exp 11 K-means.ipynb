{
 "cells": [
  {
   "cell_type": "markdown",
   "id": "692ecbf6-1150-4438-ba9a-b8886c9bb5d5",
   "metadata": {},
   "source": [
    "## K-MEANS CLUSTERING"
   ]
  },
  {
   "cell_type": "code",
   "execution_count": 2,
   "id": "d5301f6c-e2b3-4662-9b1f-03367645ffdf",
   "metadata": {},
   "outputs": [
    {
     "name": "stdin",
     "output_type": "stream",
     "text": [
      "Enter number of datapoints:  5\n",
      "Enter 1:  1\n",
      "Enter 2:  5\n",
      "Enter 3:  7\n",
      "Enter 4:  9\n",
      "Enter 5:  10\n"
     ]
    },
    {
     "name": "stdout",
     "output_type": "stream",
     "text": [
      "Datapoints: [1, 5, 7, 9, 10]\n",
      "Random 1: 10\n",
      "Random 2: 5\n",
      "Cluster 1: [9, 10]\n",
      "Cluster 2: [1, 5, 7]\n"
     ]
    }
   ],
   "source": [
    "# Import necessary librarie such as numpy pandas\n",
    "import numpy as np\n",
    "\n",
    "# Get the number of datapoints from the user\n",
    "a = int(input(\"Enter number of datapoints: \"))\n",
    "\n",
    "# Create an empty list to store the datapoints\n",
    "l = []\n",
    "\n",
    "# Get each datapoint from the user and store it in the list\n",
    "for i in range(a):\n",
    "    b = int(input(f\"Enter {i+1}: \"))\n",
    "    l.append(b)\n",
    "\n",
    "# Print the datapoints\n",
    "print(\"Datapoints:\", l)\n",
    "\n",
    "# Set the number of clusters 'k'\n",
    "K = 2\n",
    "\n",
    "# Initialize the centroids randomly\n",
    "c1 = np.random.choice(l)\n",
    "print(\"Random 1:\", c1)\n",
    "\n",
    "# Initialize the second centroid to be different from the first\n",
    "c2 = np.random.choice(l)\n",
    "while c1 == c2:\n",
    "    c2 = np.random.choice(l)\n",
    "print(\"Random 2:\", c2)\n",
    "\n",
    "# Create empty lists to store the clusters\n",
    "clus1 = []\n",
    "clus2 = []\n",
    "\n",
    "# Assign each datapoint to the closest centroid\n",
    "for i in range(a):\n",
    "    # Calculate the distance to each centroid\n",
    "    d1 = abs(l[i] - c1)\n",
    "    d2 = abs(l[i] - c2)\n",
    "    \n",
    "    # Assign the datapoint to the closest centroid\n",
    "    if d1 < d2:\n",
    "        clus1.append(l[i])\n",
    "    else:\n",
    "        clus2.append(l[i])\n",
    "\n",
    "# Print the clusters\n",
    "print(\"Cluster 1:\", clus1)\n",
    "print(\"Cluster 2:\", clus2)"
   ]
  },
  {
   "cell_type": "code",
   "execution_count": null,
   "id": "fb1c0c4c-e63f-4b2a-8ee4-28f0062d39c3",
   "metadata": {},
   "outputs": [],
   "source": []
  }
 ],
 "metadata": {
  "kernelspec": {
   "display_name": "Python 3 (ipykernel)",
   "language": "python",
   "name": "python3"
  },
  "language_info": {
   "codemirror_mode": {
    "name": "ipython",
    "version": 3
   },
   "file_extension": ".py",
   "mimetype": "text/x-python",
   "name": "python",
   "nbconvert_exporter": "python",
   "pygments_lexer": "ipython3",
   "version": "3.12.4"
  }
 },
 "nbformat": 4,
 "nbformat_minor": 5
}
